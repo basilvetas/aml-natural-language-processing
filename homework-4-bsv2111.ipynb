{
 "cells": [
  {
   "cell_type": "markdown",
   "metadata": {},
   "source": [
    "# Homework 4 - Applied Machine Learning\n",
    "#### Basil Vetas (bsv2111)&nbsp;&nbsp;&nbsp;—&nbsp;&nbsp;&nbsp;Date: April 15th, 2019\n",
    "\n",
    "In this homework, we try to solve the problem of moderating the science subreddit r/science. You can find the data [here](https://www.kaggle.com/areeves87/rscience-popular-comment-removal)."
   ]
  },
  {
   "cell_type": "markdown",
   "metadata": {},
   "source": [
    "## Imports"
   ]
  },
  {
   "cell_type": "code",
   "execution_count": 1,
   "metadata": {},
   "outputs": [],
   "source": [
    "# base imports\n",
    "import warnings, re, html\n",
    "import numpy as np\n",
    "import pandas as pd\n",
    "import matplotlib.pyplot as plt\n",
    "import seaborn as sns\n",
    "import missingno as msno"
   ]
  },
  {
   "cell_type": "code",
   "execution_count": 2,
   "metadata": {},
   "outputs": [],
   "source": [
    "# utilities\n",
    "from sklearn.model_selection import train_test_split, cross_val_score, GridSearchCV\n",
    "from sklearn.compose import ColumnTransformer, make_column_transformer\n",
    "from sklearn.pipeline import Pipeline, make_pipeline\n",
    "\n",
    "# models\n",
    "from sklearn.linear_model import SGDClassifier, LogisticRegression\n",
    "from sklearn.svm import LinearSVC\n",
    "from sklearn.naive_bayes import MultinomialNB\n",
    "\n",
    "# other\n",
    "from sklearn.exceptions import ConvergenceWarning\n",
    "from sklearn.impute import SimpleImputer\n",
    "from sklearn.base import TransformerMixin\n",
    "\n",
    "# nlp\n",
    "from sklearn.feature_extraction.text import CountVectorizer, TfidfTransformer\n",
    "\n",
    "from nltk import word_tokenize, pos_tag, download          \n",
    "from nltk.stem import WordNetLemmatizer \n",
    "from nltk.corpus import wordnet\n",
    "\n",
    "from gensim import models"
   ]
  },
  {
   "cell_type": "code",
   "execution_count": 3,
   "metadata": {},
   "outputs": [],
   "source": [
    "# custom imports\n",
    "from utils import load_from_cache, save_to_cache"
   ]
  },
  {
   "cell_type": "markdown",
   "metadata": {},
   "source": [
    "## Options"
   ]
  },
  {
   "cell_type": "code",
   "execution_count": 4,
   "metadata": {},
   "outputs": [
    {
     "name": "stderr",
     "output_type": "stream",
     "text": [
      "[nltk_data] Downloading package punkt to\n",
      "[nltk_data]     /Users/basilvetas/nltk_data...\n",
      "[nltk_data]   Package punkt is already up-to-date!\n",
      "[nltk_data] Downloading package wordnet to\n",
      "[nltk_data]     /Users/basilvetas/nltk_data...\n",
      "[nltk_data]   Package wordnet is already up-to-date!\n",
      "[nltk_data] Downloading package averaged_perceptron_tagger to\n",
      "[nltk_data]     /Users/basilvetas/nltk_data...\n",
      "[nltk_data]   Package averaged_perceptron_tagger is already up-to-\n",
      "[nltk_data]       date!\n"
     ]
    },
    {
     "data": {
      "text/plain": [
       "True"
      ]
     },
     "execution_count": 4,
     "metadata": {},
     "output_type": "execute_result"
    }
   ],
   "source": [
    "pd.options.display.max_columns = None\n",
    "sns.set_style('whitegrid')\n",
    "%matplotlib inline\n",
    "\n",
    "# nltk\n",
    "download('punkt')\n",
    "download('wordnet')\n",
    "download('averaged_perceptron_tagger')"
   ]
  },
  {
   "cell_type": "code",
   "execution_count": 5,
   "metadata": {},
   "outputs": [],
   "source": [
    "warnings.filterwarnings(action='ignore', category=ConvergenceWarning)\n",
    "warnings.filterwarnings(action='ignore', category=FutureWarning)"
   ]
  },
  {
   "cell_type": "markdown",
   "metadata": {},
   "source": [
    "## Load Data"
   ]
  },
  {
   "cell_type": "markdown",
   "metadata": {},
   "source": [
    "First I load and get familiar with the data. We are instructed to use only \"body\" and \"removed\" columns."
   ]
  },
  {
   "cell_type": "code",
   "execution_count": 6,
   "metadata": {},
   "outputs": [],
   "source": [
    "cols = ['body', 'REMOVED']\n",
    "df_train = pd.read_csv('./data/reddit_200k_train.csv', usecols=cols, encoding='ISO-8859-1') \n",
    "df_test = pd.read_csv('./data/reddit_200k_test.csv', usecols=cols, encoding='ISO-8859-1')"
   ]
  },
  {
   "cell_type": "code",
   "execution_count": 7,
   "metadata": {},
   "outputs": [
    {
     "data": {
      "text/plain": [
       "(167529, 2)"
      ]
     },
     "execution_count": 7,
     "metadata": {},
     "output_type": "execute_result"
    }
   ],
   "source": [
    "df_train.shape"
   ]
  },
  {
   "cell_type": "code",
   "execution_count": 8,
   "metadata": {},
   "outputs": [
    {
     "data": {
      "text/plain": [
       "(55843, 2)"
      ]
     },
     "execution_count": 8,
     "metadata": {},
     "output_type": "execute_result"
    }
   ],
   "source": [
    "df_test.shape"
   ]
  },
  {
   "cell_type": "code",
   "execution_count": 9,
   "metadata": {},
   "outputs": [
    {
     "data": {
      "text/html": [
       "<div>\n",
       "<style scoped>\n",
       "    .dataframe tbody tr th:only-of-type {\n",
       "        vertical-align: middle;\n",
       "    }\n",
       "\n",
       "    .dataframe tbody tr th {\n",
       "        vertical-align: top;\n",
       "    }\n",
       "\n",
       "    .dataframe thead th {\n",
       "        text-align: right;\n",
       "    }\n",
       "</style>\n",
       "<table border=\"1\" class=\"dataframe\">\n",
       "  <thead>\n",
       "    <tr style=\"text-align: right;\">\n",
       "      <th></th>\n",
       "      <th>body</th>\n",
       "      <th>REMOVED</th>\n",
       "    </tr>\n",
       "  </thead>\n",
       "  <tbody>\n",
       "    <tr>\n",
       "      <th>157834</th>\n",
       "      <td>I know someone who is trialling this and it's ...</td>\n",
       "      <td>False</td>\n",
       "    </tr>\n",
       "    <tr>\n",
       "      <th>32850</th>\n",
       "      <td>Cool area of work! Urology person here. Can yo...</td>\n",
       "      <td>False</td>\n",
       "    </tr>\n",
       "    <tr>\n",
       "      <th>68223</th>\n",
       "      <td>Wow it's been 40 years already</td>\n",
       "      <td>False</td>\n",
       "    </tr>\n",
       "    <tr>\n",
       "      <th>145497</th>\n",
       "      <td>The most important takeaway from this really s...</td>\n",
       "      <td>False</td>\n",
       "    </tr>\n",
       "    <tr>\n",
       "      <th>119399</th>\n",
       "      <td>What do you think needs to be done to get the ...</td>\n",
       "      <td>False</td>\n",
       "    </tr>\n",
       "    <tr>\n",
       "      <th>34524</th>\n",
       "      <td>Since marijuana use has been shown to interrup...</td>\n",
       "      <td>False</td>\n",
       "    </tr>\n",
       "    <tr>\n",
       "      <th>124785</th>\n",
       "      <td>lol stupid. psychology isn't science</td>\n",
       "      <td>True</td>\n",
       "    </tr>\n",
       "    <tr>\n",
       "      <th>86273</th>\n",
       "      <td>Satisfaction? Yes I'm sure of it...... but the...</td>\n",
       "      <td>True</td>\n",
       "    </tr>\n",
       "    <tr>\n",
       "      <th>136389</th>\n",
       "      <td>Irresponsible and has a parasitic lifestyle......</td>\n",
       "      <td>True</td>\n",
       "    </tr>\n",
       "    <tr>\n",
       "      <th>18555</th>\n",
       "      <td>even if it works perfectly, and is made law, i...</td>\n",
       "      <td>False</td>\n",
       "    </tr>\n",
       "  </tbody>\n",
       "</table>\n",
       "</div>"
      ],
      "text/plain": [
       "                                                     body  REMOVED\n",
       "157834  I know someone who is trialling this and it's ...    False\n",
       "32850   Cool area of work! Urology person here. Can yo...    False\n",
       "68223                      Wow it's been 40 years already    False\n",
       "145497  The most important takeaway from this really s...    False\n",
       "119399  What do you think needs to be done to get the ...    False\n",
       "34524   Since marijuana use has been shown to interrup...    False\n",
       "124785               lol stupid. psychology isn't science     True\n",
       "86273   Satisfaction? Yes I'm sure of it...... but the...     True\n",
       "136389  Irresponsible and has a parasitic lifestyle......     True\n",
       "18555   even if it works perfectly, and is made law, i...    False"
      ]
     },
     "execution_count": 9,
     "metadata": {},
     "output_type": "execute_result"
    }
   ],
   "source": [
    "df_train.sample(10)"
   ]
  },
  {
   "cell_type": "code",
   "execution_count": 10,
   "metadata": {},
   "outputs": [
    {
     "data": {
      "text/html": [
       "<div>\n",
       "<style scoped>\n",
       "    .dataframe tbody tr th:only-of-type {\n",
       "        vertical-align: middle;\n",
       "    }\n",
       "\n",
       "    .dataframe tbody tr th {\n",
       "        vertical-align: top;\n",
       "    }\n",
       "\n",
       "    .dataframe thead th {\n",
       "        text-align: right;\n",
       "    }\n",
       "</style>\n",
       "<table border=\"1\" class=\"dataframe\">\n",
       "  <thead>\n",
       "    <tr style=\"text-align: right;\">\n",
       "      <th></th>\n",
       "      <th>body</th>\n",
       "      <th>REMOVED</th>\n",
       "    </tr>\n",
       "  </thead>\n",
       "  <tbody>\n",
       "    <tr>\n",
       "      <th>47901</th>\n",
       "      <td>Somebody took psychedelics and tried to write ...</td>\n",
       "      <td>False</td>\n",
       "    </tr>\n",
       "    <tr>\n",
       "      <th>24790</th>\n",
       "      <td>I am a creative person and when I tried LSD fo...</td>\n",
       "      <td>True</td>\n",
       "    </tr>\n",
       "    <tr>\n",
       "      <th>50727</th>\n",
       "      <td>*Checks comment section*\\r\\nRemoved</td>\n",
       "      <td>True</td>\n",
       "    </tr>\n",
       "    <tr>\n",
       "      <th>55199</th>\n",
       "      <td>Obvious agenda is obvious.  Study could have b...</td>\n",
       "      <td>True</td>\n",
       "    </tr>\n",
       "    <tr>\n",
       "      <th>26520</th>\n",
       "      <td>How did this opinion piece make it onto r/scie...</td>\n",
       "      <td>True</td>\n",
       "    </tr>\n",
       "    <tr>\n",
       "      <th>30707</th>\n",
       "      <td>Speaking for our state grades below 5th largel...</td>\n",
       "      <td>False</td>\n",
       "    </tr>\n",
       "    <tr>\n",
       "      <th>4434</th>\n",
       "      <td>Asians ruin everything</td>\n",
       "      <td>True</td>\n",
       "    </tr>\n",
       "    <tr>\n",
       "      <th>23944</th>\n",
       "      <td>I have to say that this is awesomely amazing. ...</td>\n",
       "      <td>False</td>\n",
       "    </tr>\n",
       "    <tr>\n",
       "      <th>34094</th>\n",
       "      <td>And yet, we continue to destroy them.</td>\n",
       "      <td>False</td>\n",
       "    </tr>\n",
       "    <tr>\n",
       "      <th>2051</th>\n",
       "      <td>Out of sight, out of mind.\\r\\n\\r\\nThat's the c...</td>\n",
       "      <td>False</td>\n",
       "    </tr>\n",
       "  </tbody>\n",
       "</table>\n",
       "</div>"
      ],
      "text/plain": [
       "                                                    body  REMOVED\n",
       "47901  Somebody took psychedelics and tried to write ...    False\n",
       "24790  I am a creative person and when I tried LSD fo...     True\n",
       "50727               *Checks comment section*\\r\\nRemoved      True\n",
       "55199  Obvious agenda is obvious.  Study could have b...     True\n",
       "26520  How did this opinion piece make it onto r/scie...     True\n",
       "30707  Speaking for our state grades below 5th largel...    False\n",
       "4434                              Asians ruin everything     True\n",
       "23944  I have to say that this is awesomely amazing. ...    False\n",
       "34094              And yet, we continue to destroy them.    False\n",
       "2051   Out of sight, out of mind.\\r\\n\\r\\nThat's the c...    False"
      ]
     },
     "execution_count": 10,
     "metadata": {},
     "output_type": "execute_result"
    }
   ],
   "source": [
    "df_test.sample(10)"
   ]
  },
  {
   "cell_type": "code",
   "execution_count": 11,
   "metadata": {},
   "outputs": [
    {
     "data": {
      "text/html": [
       "<div>\n",
       "<style scoped>\n",
       "    .dataframe tbody tr th:only-of-type {\n",
       "        vertical-align: middle;\n",
       "    }\n",
       "\n",
       "    .dataframe tbody tr th {\n",
       "        vertical-align: top;\n",
       "    }\n",
       "\n",
       "    .dataframe thead th {\n",
       "        text-align: right;\n",
       "    }\n",
       "</style>\n",
       "<table border=\"1\" class=\"dataframe\">\n",
       "  <thead>\n",
       "    <tr style=\"text-align: right;\">\n",
       "      <th></th>\n",
       "      <th>body</th>\n",
       "      <th>REMOVED</th>\n",
       "    </tr>\n",
       "  </thead>\n",
       "  <tbody>\n",
       "    <tr>\n",
       "      <th>count</th>\n",
       "      <td>167529</td>\n",
       "      <td>167529</td>\n",
       "    </tr>\n",
       "    <tr>\n",
       "      <th>unique</th>\n",
       "      <td>167037</td>\n",
       "      <td>2</td>\n",
       "    </tr>\n",
       "    <tr>\n",
       "      <th>top</th>\n",
       "      <td>Your submission has been removed because it vi...</td>\n",
       "      <td>False</td>\n",
       "    </tr>\n",
       "    <tr>\n",
       "      <th>freq</th>\n",
       "      <td>28</td>\n",
       "      <td>102791</td>\n",
       "    </tr>\n",
       "  </tbody>\n",
       "</table>\n",
       "</div>"
      ],
      "text/plain": [
       "                                                     body REMOVED\n",
       "count                                              167529  167529\n",
       "unique                                             167037       2\n",
       "top     Your submission has been removed because it vi...   False\n",
       "freq                                                   28  102791"
      ]
     },
     "execution_count": 11,
     "metadata": {},
     "output_type": "execute_result"
    }
   ],
   "source": [
    "df_train.describe()"
   ]
  },
  {
   "cell_type": "code",
   "execution_count": 12,
   "metadata": {},
   "outputs": [
    {
     "data": {
      "text/html": [
       "<div>\n",
       "<style scoped>\n",
       "    .dataframe tbody tr th:only-of-type {\n",
       "        vertical-align: middle;\n",
       "    }\n",
       "\n",
       "    .dataframe tbody tr th {\n",
       "        vertical-align: top;\n",
       "    }\n",
       "\n",
       "    .dataframe thead th {\n",
       "        text-align: right;\n",
       "    }\n",
       "</style>\n",
       "<table border=\"1\" class=\"dataframe\">\n",
       "  <thead>\n",
       "    <tr style=\"text-align: right;\">\n",
       "      <th></th>\n",
       "      <th>body</th>\n",
       "      <th>REMOVED</th>\n",
       "    </tr>\n",
       "  </thead>\n",
       "  <tbody>\n",
       "    <tr>\n",
       "      <th>count</th>\n",
       "      <td>55843</td>\n",
       "      <td>55843</td>\n",
       "    </tr>\n",
       "    <tr>\n",
       "      <th>unique</th>\n",
       "      <td>55770</td>\n",
       "      <td>2</td>\n",
       "    </tr>\n",
       "    <tr>\n",
       "      <th>top</th>\n",
       "      <td>Why are so many comments removed?</td>\n",
       "      <td>False</td>\n",
       "    </tr>\n",
       "    <tr>\n",
       "      <th>freq</th>\n",
       "      <td>10</td>\n",
       "      <td>34565</td>\n",
       "    </tr>\n",
       "  </tbody>\n",
       "</table>\n",
       "</div>"
      ],
      "text/plain": [
       "                                     body REMOVED\n",
       "count                               55843   55843\n",
       "unique                              55770       2\n",
       "top     Why are so many comments removed?   False\n",
       "freq                                   10   34565"
      ]
     },
     "execution_count": 12,
     "metadata": {},
     "output_type": "execute_result"
    }
   ],
   "source": [
    "df_test.describe()"
   ]
  },
  {
   "cell_type": "markdown",
   "metadata": {},
   "source": [
    "There are apparently some repeated text values (on order of ~100s).  These look like a default message used by reddit for removed messages.  These should all be \"removed\" however the content of these messages may actually obscure the model since the text in these message isn't actually \"spam\" it is just the response to the spam, so maybe I'll want to drop these. We'll see.."
   ]
  },
  {
   "cell_type": "code",
   "execution_count": 13,
   "metadata": {},
   "outputs": [
    {
     "data": {
      "text/plain": [
       "body       object\n",
       "REMOVED      bool\n",
       "dtype: object"
      ]
     },
     "execution_count": 13,
     "metadata": {},
     "output_type": "execute_result"
    }
   ],
   "source": [
    "df_train.dtypes"
   ]
  },
  {
   "cell_type": "code",
   "execution_count": 14,
   "metadata": {},
   "outputs": [
    {
     "data": {
      "text/plain": [
       "body       object\n",
       "REMOVED      bool\n",
       "dtype: object"
      ]
     },
     "execution_count": 14,
     "metadata": {},
     "output_type": "execute_result"
    }
   ],
   "source": [
    "df_test.dtypes"
   ]
  },
  {
   "cell_type": "code",
   "execution_count": 15,
   "metadata": {},
   "outputs": [
    {
     "data": {
      "text/plain": [
       "<matplotlib.axes._subplots.AxesSubplot at 0x12ed80908>"
      ]
     },
     "execution_count": 15,
     "metadata": {},
     "output_type": "execute_result"
    },
    {
     "data": {
      "image/png": "[encoded data removed]",
      "text/plain": [
       "<Figure size 1728x720 with 3 Axes>"
      ]
     },
     "metadata": {
      "needs_background": "light"
     },
     "output_type": "display_data"
    }
   ],
   "source": [
    "msno.bar(df_train)"
   ]
  },
  {
   "cell_type": "code",
   "execution_count": 16,
   "metadata": {},
   "outputs": [
    {
     "data": {
      "text/plain": [
       "<matplotlib.axes._subplots.AxesSubplot at 0x10fbfe588>"
      ]
     },
     "execution_count": 16,
     "metadata": {},
     "output_type": "execute_result"
    },
    {
     "data": {
      "image/png": "[encoded data removed]",
      "text/plain": [
       "<Figure size 1728x720 with 3 Axes>"
      ]
     },
     "metadata": {
      "needs_background": "light"
     },
     "output_type": "display_data"
    }
   ],
   "source": [
    "msno.bar(df_test)"
   ]
  },
  {
   "cell_type": "code",
   "execution_count": 17,
   "metadata": {},
   "outputs": [
    {
     "name": "stdout",
     "output_type": "stream",
     "text": [
      "training class balance:  [0.61357138 0.38642862]\n",
      "test class balance:  [0.61896746 0.38103254]\n"
     ]
    }
   ],
   "source": [
    "print(\"training class balance: \", np.bincount(df_train['REMOVED']) / df_train.shape[0])\n",
    "print(\"test class balance: \", np.bincount(df_test['REMOVED']) / df_test.shape[0])"
   ]
  },
  {
   "cell_type": "code",
   "execution_count": 18,
   "metadata": {},
   "outputs": [
    {
     "name": "stdout",
     "output_type": "stream",
     "text": [
      "(64738, 2)\n",
      "(102791, 2)\n"
     ]
    }
   ],
   "source": [
    "print(df_train[df_train['REMOVED'] == True].shape)\n",
    "print(df_train[df_train['REMOVED'] == False].shape)"
   ]
  },
  {
   "cell_type": "markdown",
   "metadata": {},
   "source": [
    "The classes are somewhat imbalanced, with the positive class being the smaller class.  Therefore the Weighted F1 score should be a reasonable metric to use to account for the class imbalance."
   ]
  },
  {
   "cell_type": "markdown",
   "metadata": {},
   "source": [
    "#### Data Cleaning"
   ]
  },
  {
   "cell_type": "markdown",
   "metadata": {},
   "source": [
    "From inspection I noticed html tags are escaped as character entities, so this is just some basic cleaning to unescape those character into the true html tags:"
   ]
  },
  {
   "cell_type": "code",
   "execution_count": 19,
   "metadata": {},
   "outputs": [],
   "source": [
    "df_train.body = df_train.body.apply(lambda doc: html.unescape(doc))\n",
    "df_test.body = df_test.body.apply(lambda doc: html.unescape(doc))"
   ]
  },
  {
   "cell_type": "markdown",
   "metadata": {},
   "source": [
    "## Task 1 Bag of Words and simple Features"
   ]
  },
  {
   "cell_type": "markdown",
   "metadata": {},
   "source": [
    "#### 1.1 Create a baseline model using a bag-of-words approach and a linear model"
   ]
  },
  {
   "cell_type": "markdown",
   "metadata": {},
   "source": [
    "I first apply the count vectorizer directly to the documents to get a notion of the dimensionality of the transformed data."
   ]
  },
  {
   "cell_type": "code",
   "execution_count": 20,
   "metadata": {},
   "outputs": [],
   "source": [
    "X_train = df_train.drop(['REMOVED'], axis=1)\n",
    "y_train = df_train['REMOVED']\n",
    "X_test = df_test.drop(['REMOVED'], axis=1)\n",
    "y_test = df_test['REMOVED']"
   ]
  },
  {
   "cell_type": "code",
   "execution_count": 21,
   "metadata": {},
   "outputs": [],
   "source": [
    "vect = CountVectorizer()\n",
    "vect2 = CountVectorizer(min_df=2)\n",
    "vect4 = CountVectorizer(min_df=4)\n",
    "\n",
    "X_transformed = vect.fit_transform(X_train.body)\n",
    "X_transformed2 = vect2.fit_transform(X_train.body)\n",
    "X_transformed4 = vect4.fit_transform(X_train.body)"
   ]
  },
  {
   "cell_type": "code",
   "execution_count": 22,
   "metadata": {},
   "outputs": [
    {
     "name": "stdout",
     "output_type": "stream",
     "text": [
      "(167529, 113804)\n",
      "(167529, 50645)\n",
      "(167529, 31883)\n"
     ]
    }
   ],
   "source": [
    "print(X_transformed.shape)\n",
    "print(X_transformed2.shape)\n",
    "print(X_transformed4.shape)"
   ]
  },
  {
   "cell_type": "markdown",
   "metadata": {},
   "source": [
    "Evidently over half our words appear in only one document—since when we set `min_df=2` the dimensionality decreases my more than half compared to the default.  This `min_df` parameter will be worth tuning later on. \n",
    "\n",
    "Next I create a baseline model using bag-of-words to embed the text data, and a try few different linear models, but do not include any parameter tuning either in the preprocessing or in the linear models themselves."
   ]
  },
  {
   "cell_type": "code",
   "execution_count": 23,
   "metadata": {},
   "outputs": [],
   "source": [
    "class HackyWorkAround(TransformerMixin):\n",
    "    \"\"\" \n",
    "    CountVectorizer was not working with ColumnTransformer \n",
    "    when passing in a DataFrame, so this filters to just the column\n",
    "    we want.  It is necessary to be able to pass a DataFrame to so\n",
    "    that the pipeline can support additional features that we add later\n",
    "    \"\"\"\n",
    "    def __init__(self, col):\n",
    "        self.col = col\n",
    "    \n",
    "    def fit(self, X, y=None):\n",
    "        \"\"\"fit to X\"\"\"\n",
    "        return self\n",
    "\n",
    "    def transform(self, X):\n",
    "        \"\"\"transform X\"\"\"\n",
    "        return X[self.col]"
   ]
  },
  {
   "cell_type": "code",
   "execution_count": 24,
   "metadata": {},
   "outputs": [],
   "source": [
    "preprocess = make_column_transformer(\n",
    "    (make_pipeline(HackyWorkAround('body'), CountVectorizer()), ['body'])\n",
    ")\n",
    "\n",
    "pipes = {}\n",
    "pipes['SGDClassifier'] = make_pipeline(preprocess, SGDClassifier())\n",
    "pipes['LogisticRegression'] = make_pipeline(preprocess, LogisticRegression(solver='liblinear'))\n",
    "pipes['LinearSVC'] = make_pipeline(preprocess, LinearSVC())\n",
    "pipes['MultinomialNB'] = make_pipeline(preprocess, MultinomialNB())"
   ]
  },
  {
   "cell_type": "code",
   "execution_count": 25,
   "metadata": {},
   "outputs": [
    {
     "name": "stdout",
     "output_type": "stream",
     "text": [
      "Processing SGDClassifier...\n",
      "Processing LogisticRegression...\n",
      "Processing LinearSVC...\n",
      "Processing MultinomialNB...\n"
     ]
    }
   ],
   "source": [
    "mean_scores = {}\n",
    "\n",
    "for name, pipe in pipes.items():\n",
    "    print(f'Processing {name}...')\n",
    "    scores = cross_val_score(pipe, X_train, y_train, cv=5, scoring='f1_weighted')\n",
    "    mean_scores[name] = np.mean(scores)\n"
   ]
  },
  {
   "cell_type": "code",
   "execution_count": 26,
   "metadata": {},
   "outputs": [
    {
     "name": "stdout",
     "output_type": "stream",
     "text": [
      "SGDClassifier: 0.6762\n",
      "LogisticRegression: 0.6862\n",
      "LinearSVC: 0.6703\n",
      "MultinomialNB: 0.6787\n"
     ]
    }
   ],
   "source": [
    "for name, val in mean_scores.items():\n",
    "    print(f'{name}: {val:.4}')"
   ]
  },
  {
   "cell_type": "markdown",
   "metadata": {},
   "source": [
    "#### 1.2 Try using n-grams, characters, tf-idf rescaling and possibly other ways to tune the BoWmodel. Be aware that you might need to adjust the (regularization of the) linear model for different feature sets."
   ]
  },
  {
   "cell_type": "markdown",
   "metadata": {},
   "source": [
    "To start, I apply some basic tuning methods to try to improve the model.  Specifically, I try adding stop words and apply the default tf-idf rescaling. "
   ]
  },
  {
   "cell_type": "code",
   "execution_count": 27,
   "metadata": {},
   "outputs": [],
   "source": [
    "preprocess2 = make_column_transformer(\n",
    "    (make_pipeline(HackyWorkAround('body'),\n",
    "                   CountVectorizer(stop_words='english'), \n",
    "                   TfidfTransformer()), ['body']), \n",
    "    remainder='passthrough'\n",
    ")\n",
    "\n",
    "pipes2 = {}\n",
    "pipes2['SGDClassifier'] = make_pipeline(preprocess2, SGDClassifier())\n",
    "pipes2['LogisticRegression'] = make_pipeline(preprocess2, LogisticRegression(solver='liblinear'))\n",
    "pipes2['LinearSVC'] = make_pipeline(preprocess2, LinearSVC())\n",
    "pipes2['MultinomialNB'] = make_pipeline(preprocess2, MultinomialNB())"
   ]
  },
  {
   "cell_type": "code",
   "execution_count": 28,
   "metadata": {},
   "outputs": [
    {
     "name": "stdout",
     "output_type": "stream",
     "text": [
      "Processing SGDClassifier...\n",
      "Processing LogisticRegression...\n",
      "Processing LinearSVC...\n",
      "Processing MultinomialNB...\n"
     ]
    }
   ],
   "source": [
    "mean_scores2 = {}\n",
    "\n",
    "for name, pipe in pipes2.items():\n",
    "    print(f'Processing {name}...')\n",
    "    scores = cross_val_score(pipe, X_train, y_train, cv=5, scoring='f1_weighted')\n",
    "    mean_scores2[name] = np.mean(scores)\n"
   ]
  },
  {
   "cell_type": "code",
   "execution_count": 29,
   "metadata": {},
   "outputs": [
    {
     "name": "stdout",
     "output_type": "stream",
     "text": [
      "SGDClassifier: 0.6188\n",
      "LogisticRegression: 0.6903\n",
      "LinearSVC: 0.6822\n",
      "MultinomialNB: 0.633\n"
     ]
    }
   ],
   "source": [
    "for name, val in mean_scores2.items():\n",
    "    print(f'{name}: {val:.4}')"
   ]
  },
  {
   "cell_type": "markdown",
   "metadata": {},
   "source": [
    "It appears the SGDClassifer and MultinomialNB performed slightly worse, however the LogisticRegression and LinearSVC performed slightly better with the above parameter tuning. "
   ]
  },
  {
   "cell_type": "markdown",
   "metadata": {},
   "source": [
    "Next, I create parameter grids and perform grid search with cross validation on a larger parameter space that includes min and max document frequency values, n-grams, character analysis in addition to word analysis, and the same tf-idf rescaling and stop words as before. Note that I have limited the number of parameters because the grid search takes quite long, but this could easily be extended to a larger parameter space in a real-world/production setting."
   ]
  },
  {
   "cell_type": "code",
   "execution_count": 30,
   "metadata": {},
   "outputs": [],
   "source": [
    "transform_params = {\n",
    "    'columntransformer__pipeline__countvectorizer__min_df': [1, 2],\n",
    "    'columntransformer__pipeline__countvectorizer__max_df': [0.75, 1.0],\n",
    "    'columntransformer__pipeline__countvectorizer__ngram_range': [(1,1), (1, 2)],\n",
    "    'columntransformer__pipeline__countvectorizer__analyzer': ['word', 'char']\n",
    "}\n"
   ]
  },
  {
   "cell_type": "code",
   "execution_count": 31,
   "metadata": {},
   "outputs": [
    {
     "data": {
      "text/plain": [
       "GridSearchCV(cv=5, error_score='raise-deprecating',\n",
       "       estimator=Pipeline(memory=None,\n",
       "     steps=[('columntransformer', ColumnTransformer(n_jobs=None, remainder='passthrough', sparse_threshold=0.3,\n",
       "         transformer_weights=None,\n",
       "         transformers=[('pipeline', Pipeline(memory=None,\n",
       "     steps=[('hackyworkaround', <__main__.HackyWorkAround object at 0x136f6d320>), ('countvectorizer...m_state=None, shuffle=True, tol=None,\n",
       "       validation_fraction=0.1, verbose=0, warm_start=False))]),\n",
       "       fit_params=None, iid='warn', n_jobs=-1,\n",
       "       param_grid={'columntransformer__pipeline__countvectorizer__min_df': [1, 2], 'columntransformer__pipeline__countvectorizer__max_df': [0.75, 1.0], 'columntransformer__pipeline__countvectorizer__ngram_range': [(1, 1), (1, 2)], 'columntransformer__pipeline__countvectorizer__analyzer': ['word', 'char'], 'sgdclassifier__alpha': [0.001, 0.0001, 1e-05]},\n",
       "       pre_dispatch='2*n_jobs', refit=True, return_train_score=True,\n",
       "       scoring='f1_weighted', verbose=0)"
      ]
     },
     "execution_count": 31,
     "metadata": {},
     "output_type": "execute_result"
    }
   ],
   "source": [
    "sgd_params = {\n",
    "    **transform_params,\n",
    "    'sgdclassifier__alpha': [1e-3, 1e-4, 1e-5],\n",
    "}\n",
    "\n",
    "sgd_grid = GridSearchCV(pipes2['SGDClassifier'], sgd_params, cv=5, scoring='f1_weighted', return_train_score=True, n_jobs=-1)\n",
    "sgd_grid.fit(X_train, y_train)\n"
   ]
  },
  {
   "cell_type": "code",
   "execution_count": 32,
   "metadata": {},
   "outputs": [
    {
     "name": "stdout",
     "output_type": "stream",
     "text": [
      "0.6905137771589092\n",
      "columntransformer__pipeline__countvectorizer__analyzer: word\n",
      "columntransformer__pipeline__countvectorizer__max_df: 1.0\n",
      "columntransformer__pipeline__countvectorizer__min_df: 1\n",
      "columntransformer__pipeline__countvectorizer__ngram_range: (1, 2)\n",
      "sgdclassifier__alpha: 1e-05\n"
     ]
    }
   ],
   "source": [
    "print(sgd_grid.best_score_)\n",
    "for param, val in sgd_grid.best_params_.items():\n",
    "    print(f'{param}: {val}')"
   ]
  },
  {
   "cell_type": "code",
   "execution_count": 33,
   "metadata": {},
   "outputs": [
    {
     "data": {
      "text/plain": [
       "GridSearchCV(cv=5, error_score='raise-deprecating',\n",
       "       estimator=Pipeline(memory=None,\n",
       "     steps=[('columntransformer', ColumnTransformer(n_jobs=None, remainder='passthrough', sparse_threshold=0.3,\n",
       "         transformer_weights=None,\n",
       "         transformers=[('pipeline', Pipeline(memory=None,\n",
       "     steps=[('hackyworkaround', <__main__.HackyWorkAround object at 0x136f6d320>), ('countvectorizer...ty='l2', random_state=None, solver='liblinear',\n",
       "          tol=0.0001, verbose=0, warm_start=False))]),\n",
       "       fit_params=None, iid='warn', n_jobs=-1,\n",
       "       param_grid={'columntransformer__pipeline__countvectorizer__min_df': [1, 2], 'columntransformer__pipeline__countvectorizer__max_df': [0.75, 1.0], 'columntransformer__pipeline__countvectorizer__ngram_range': [(1, 1), (1, 2)], 'columntransformer__pipeline__countvectorizer__analyzer': ['word', 'char'], 'logisticregression__C': array([1.e-03, 1.e+00, 1.e+03])},\n",
       "       pre_dispatch='2*n_jobs', refit=True, return_train_score=True,\n",
       "       scoring='f1_weighted', verbose=0)"
      ]
     },
     "execution_count": 33,
     "metadata": {},
     "output_type": "execute_result"
    }
   ],
   "source": [
    "lgr_params = {\n",
    "    **transform_params,\n",
    "    'logisticregression__C': np.logspace(-3, 3, 3)\n",
    "}\n",
    "\n",
    "lgr_grid = GridSearchCV(pipes2['LogisticRegression'], lgr_params, cv=5, scoring='f1_weighted', return_train_score=True, n_jobs=-1)\n",
    "lgr_grid.fit(X_train, y_train)\n"
   ]
  },
  {
   "cell_type": "code",
   "execution_count": 34,
   "metadata": {},
   "outputs": [
    {
     "name": "stdout",
     "output_type": "stream",
     "text": [
      "0.691509030610613\n",
      "columntransformer__pipeline__countvectorizer__analyzer: word\n",
      "columntransformer__pipeline__countvectorizer__max_df: 0.75\n",
      "columntransformer__pipeline__countvectorizer__min_df: 2\n",
      "columntransformer__pipeline__countvectorizer__ngram_range: (1, 2)\n",
      "logisticregression__C: 1.0\n"
     ]
    }
   ],
   "source": [
    "print(lgr_grid.best_score_)\n",
    "for param, val in lgr_grid.best_params_.items():\n",
    "    print(f'{param}: {val}')"
   ]
  },
  {
   "cell_type": "code",
   "execution_count": 35,
   "metadata": {},
   "outputs": [
    {
     "data": {
      "text/plain": [
       "GridSearchCV(cv=5, error_score='raise-deprecating',\n",
       "       estimator=Pipeline(memory=None,\n",
       "     steps=[('columntransformer', ColumnTransformer(n_jobs=None, remainder='passthrough', sparse_threshold=0.3,\n",
       "         transformer_weights=None,\n",
       "         transformers=[('pipeline', Pipeline(memory=None,\n",
       "     steps=[('hackyworkaround', <__main__.HackyWorkAround object at 0x136f6d320>), ('countvectorizer...ax_iter=1000,\n",
       "     multi_class='ovr', penalty='l2', random_state=None, tol=0.0001,\n",
       "     verbose=0))]),\n",
       "       fit_params=None, iid='warn', n_jobs=-1,\n",
       "       param_grid={'columntransformer__pipeline__countvectorizer__min_df': [1, 2], 'columntransformer__pipeline__countvectorizer__max_df': [0.75, 1.0], 'columntransformer__pipeline__countvectorizer__ngram_range': [(1, 1), (1, 2)], 'columntransformer__pipeline__countvectorizer__analyzer': ['word', 'char'], 'linearsvc__C': array([1.e-03, 1.e+00, 1.e+03])},\n",
       "       pre_dispatch='2*n_jobs', refit=True, return_train_score=True,\n",
       "       scoring='f1_weighted', verbose=0)"
      ]
     },
     "execution_count": 35,
     "metadata": {},
     "output_type": "execute_result"
    }
   ],
   "source": [
    "svm_params = {\n",
    "    **transform_params,\n",
    "    'linearsvc__C': np.logspace(-3, 3, 3)\n",
    "}\n",
    "\n",
    "svm_grid = GridSearchCV(pipes2['LinearSVC'], svm_params, cv=5, scoring='f1_weighted', return_train_score=True, n_jobs=-1)\n",
    "svm_grid.fit(X_train, y_train)\n"
   ]
  },
  {
   "cell_type": "code",
   "execution_count": 36,
   "metadata": {},
   "outputs": [
    {
     "name": "stdout",
     "output_type": "stream",
     "text": [
      "0.6902278425529204\n",
      "columntransformer__pipeline__countvectorizer__analyzer: word\n",
      "columntransformer__pipeline__countvectorizer__max_df: 0.75\n",
      "columntransformer__pipeline__countvectorizer__min_df: 1\n",
      "columntransformer__pipeline__countvectorizer__ngram_range: (1, 2)\n",
      "linearsvc__C: 1.0\n"
     ]
    }
   ],
   "source": [
    "print(svm_grid.best_score_)\n",
    "for param, val in svm_grid.best_params_.items():\n",
    "    print(f'{param}: {val}')"
   ]
  },
  {
   "cell_type": "code",
   "execution_count": 37,
   "metadata": {},
   "outputs": [
    {
     "data": {
      "text/plain": [
       "GridSearchCV(cv=5, error_score='raise-deprecating',\n",
       "       estimator=Pipeline(memory=None,\n",
       "     steps=[('columntransformer', ColumnTransformer(n_jobs=None, remainder='passthrough', sparse_threshold=0.3,\n",
       "         transformer_weights=None,\n",
       "         transformers=[('pipeline', Pipeline(memory=None,\n",
       "     steps=[('hackyworkaround', <__main__.HackyWorkAround object at 0x136f6d320>), ('countvectorizer...ue))]), ['body'])])), ('multinomialnb', MultinomialNB(alpha=1.0, class_prior=None, fit_prior=True))]),\n",
       "       fit_params=None, iid='warn', n_jobs=-1,\n",
       "       param_grid={'columntransformer__pipeline__countvectorizer__min_df': [1, 2], 'columntransformer__pipeline__countvectorizer__max_df': [0.75, 1.0], 'columntransformer__pipeline__countvectorizer__ngram_range': [(1, 1), (1, 2)], 'columntransformer__pipeline__countvectorizer__analyzer': ['word', 'char'], 'multinomialnb__alpha': [0.001, 0.0001, 1e-05]},\n",
       "       pre_dispatch='2*n_jobs', refit=True, return_train_score=True,\n",
       "       scoring='f1_weighted', verbose=0)"
      ]
     },
     "execution_count": 37,
     "metadata": {},
     "output_type": "execute_result"
    }
   ],
   "source": [
    "mnb_params = {\n",
    "    **transform_params,\n",
    "    'multinomialnb__alpha': [1e-3, 1e-4, 1e-5],\n",
    "}\n",
    "\n",
    "mnb_grid = GridSearchCV(pipes2['MultinomialNB'], mnb_params, cv=5, scoring='f1_weighted', return_train_score=True, n_jobs=-1)\n",
    "mnb_grid.fit(X_train, y_train)\n"
   ]
  },
  {
   "cell_type": "code",
   "execution_count": 38,
   "metadata": {},
   "outputs": [
    {
     "name": "stdout",
     "output_type": "stream",
     "text": [
      "0.6830106347440476\n",
      "columntransformer__pipeline__countvectorizer__analyzer: word\n",
      "columntransformer__pipeline__countvectorizer__max_df: 0.75\n",
      "columntransformer__pipeline__countvectorizer__min_df: 2\n",
      "columntransformer__pipeline__countvectorizer__ngram_range: (1, 1)\n",
      "multinomialnb__alpha: 0.001\n"
     ]
    }
   ],
   "source": [
    "print(mnb_grid.best_score_)\n",
    "for param, val in mnb_grid.best_params_.items():\n",
    "    print(f'{param}: {val}')"
   ]
  },
  {
   "cell_type": "markdown",
   "metadata": {},
   "source": [
    "#### 1.3 Explore other features you can derive from the text, such as html, length, punctuation, capitalization or other features you deem important from exploring the dataset"
   ]
  },
  {
   "cell_type": "markdown",
   "metadata": {},
   "source": [
    "I start by generating a feature for document length, as well as count features for html/emoji, punctuation, capitalization, urls, and bad words. Since the count of html/emojis, punctuation, capitalization and urls is likely, at least in part, a function of the document length, I thought the ratio of each of these over document length might provide stronger signals as well.\n",
    "\n",
    "I then lemmatize the documents (before the pipeline so we only have to do it once) and cache this file since the operation takes a long time. "
   ]
  },
  {
   "cell_type": "code",
   "execution_count": 39,
   "metadata": {},
   "outputs": [],
   "source": [
    "# Load helper dataset retrieved from: https://www.kaggle.com/nicapotato/bad-bad-words\n",
    "bad_word_list = pd.read_csv('./data/bad-words.csv', sep='\\n', header=None).values.flatten().tolist()\n",
    "bad_words = set(word.strip() for word in bad_word_list)"
   ]
  },
  {
   "cell_type": "code",
   "execution_count": 40,
   "metadata": {},
   "outputs": [],
   "source": [
    "def derive_features(df):\n",
    "    \"\"\" derive new features for given df \"\"\"\n",
    "\n",
    "    df['doc_length'] = df.body.apply(lambda doc: len(doc))\n",
    "\n",
    "    # counts html tags - note this also includes many unicode emojis wrapped in < > tags\n",
    "    df['html_count'] = df.body.apply(lambda doc: len(re.findall(r'<[^>]+>', doc)))\n",
    "\n",
    "    # counts punctuation, excludes alphanumerics and spaces\n",
    "    df['punctuation_count'] = df.body.apply(lambda doc: len(re.findall(r'[^a-zA-Z0-9\\s]', doc)))\n",
    "\n",
    "    # counts capitalized letters matches\n",
    "    df['caps_count'] = df.body.apply(lambda doc: len(re.findall(r'[A-Z]+', doc)))\n",
    "\n",
    "    # counts urls matches     \n",
    "    df['url_count'] = df.body.apply(lambda doc: len(re.findall(r'(?P<url>https?://[^\\s]+)', doc)))\n",
    "\n",
    "    # counts bad word matches     \n",
    "    df['bad_word_count'] = df.body.apply(lambda doc: len([w for w in doc.split() if w in bad_words]))\n",
    "        \n",
    "    # counts the word \"removed\" — at the top, I noticed many documents discussing being removed\n",
    "    df['removed_count'] = df.body.apply(lambda doc: len(re.findall(r'\\bremoved\\b', doc)))\n",
    "    \n",
    "    # derives ratios of each count feature above relative to doc_length     \n",
    "    df['html_ratio'] = df.apply(lambda x: x.html_count/x.doc_length, axis=1)\n",
    "    df['punctuation_ratio'] = df.apply(lambda x: x.punctuation_count/x.doc_length, axis=1)\n",
    "    df['caps_ratio'] = df.apply(lambda x: x.caps_count/x.doc_length, axis=1)\n",
    "    df['url_ratio'] = df.apply(lambda x: x.url_count/x.doc_length, axis=1)\n",
    "    df['bad_word_ratio'] = df.apply(lambda x: x.bad_word_count/x.doc_length, axis=1)\n",
    "    df['removed_ratio'] = df.apply(lambda x: x.removed_count/x.doc_length, axis=1)\n",
    "    \n",
    "    return df"
   ]
  },
  {
   "cell_type": "code",
   "execution_count": 41,
   "metadata": {},
   "outputs": [],
   "source": [
    "# Reference: https://www.machinelearningplus.com/nlp/lemmatization-examples-python/\n",
    "def lemmatize(doc):\n",
    "    \"\"\" Lemmatize the given doc \"\"\"\n",
    "    def get_wordnet_pos(word):\n",
    "        \"\"\" Map POS tag to first character lemmatize() accepts \"\"\"\n",
    "        tag = pos_tag([word])[0][1][0].upper()\n",
    "        tag_dict = {'J': wordnet.ADJ,\n",
    "                    'N': wordnet.NOUN,\n",
    "                    'V': wordnet.VERB,\n",
    "                    'R': wordnet.ADV}\n",
    "\n",
    "        return tag_dict.get(tag, wordnet.NOUN)\n",
    "\n",
    "    lemmatizer = WordNetLemmatizer()\n",
    "    return ' '.join([lemmatizer.lemmatize(w, get_wordnet_pos(w)) for w in word_tokenize(doc)])"
   ]
  },
  {
   "cell_type": "code",
   "execution_count": 42,
   "metadata": {},
   "outputs": [],
   "source": [
    "# derive new features\n",
    "df_train = derive_features(df_train)\n",
    "df_test = derive_features(df_train)"
   ]
  },
  {
   "cell_type": "code",
   "execution_count": 43,
   "metadata": {},
   "outputs": [
    {
     "name": "stdout",
     "output_type": "stream",
     "text": [
      "Loading train_lemma data from cache...\n",
      "Took 0.36 seconds to load train_lemma data\n",
      "Loading test_lemma data from cache...\n",
      "Took 0.14 seconds to load test_lemma data\n"
     ]
    }
   ],
   "source": [
    "# lemmatize df_train and df_test (this takes longs so we save to cache or load from cache if available)\n",
    "try:\n",
    "    df_train = load_from_cache('./cache/train_lemma.pkl', 'train_lemma')\n",
    "except FileNotFoundError as e:\n",
    "    df_train.body = df_train.body.apply(lambda doc: lemmatize(doc))\n",
    "    save_to_cache('./cache/train_lemma.pkl', 'train_lemma', df_train)\n",
    "\n",
    "try:\n",
    "    df_test = load_from_cache('./cache/test_lemma.pkl', 'test_lemma')\n",
    "except FileNotFoundError as e:\n",
    "    df_test.body = df_test.body.apply(lambda doc: lemmatize(doc))\n",
    "    save_to_cache('./cache/test_lemma.pkl', 'test_lemma', df_test)"
   ]
  },
  {
   "cell_type": "markdown",
   "metadata": {},
   "source": [
    "Update our X and y datasets with the new features. Let's see how well the models perform if we only use our derived features..."
   ]
  },
  {
   "cell_type": "code",
   "execution_count": 44,
   "metadata": {},
   "outputs": [],
   "source": [
    "X_train = df_train.drop(['REMOVED'], axis=1)\n",
    "y_train = df_train['REMOVED']\n",
    "X_test = df_test.drop(['REMOVED'], axis=1)\n",
    "y_test = df_test['REMOVED']"
   ]
  },
  {
   "cell_type": "code",
   "execution_count": 45,
   "metadata": {},
   "outputs": [],
   "source": [
    "X_train_derived_only = X_train.drop(['body'], axis=1)"
   ]
  },
  {
   "cell_type": "code",
   "execution_count": 46,
   "metadata": {},
   "outputs": [
    {
     "data": {
      "text/plain": [
       "0.5862370636518358"
      ]
     },
     "execution_count": 46,
     "metadata": {},
     "output_type": "execute_result"
    }
   ],
   "source": [
    "np.mean(cross_val_score(SGDClassifier(alpha=1e-5), X_train_derived_only, y_train, cv=5, scoring='f1_weighted'))"
   ]
  },
  {
   "cell_type": "code",
   "execution_count": 47,
   "metadata": {},
   "outputs": [
    {
     "data": {
      "text/plain": [
       "0.548869981153288"
      ]
     },
     "execution_count": 47,
     "metadata": {},
     "output_type": "execute_result"
    }
   ],
   "source": [
    "np.mean(cross_val_score(LogisticRegression(solver='liblinear', C=1), X_train_derived_only, y_train, cv=5, scoring='f1_weighted'))"
   ]
  },
  {
   "cell_type": "code",
   "execution_count": 48,
   "metadata": {},
   "outputs": [
    {
     "data": {
      "text/plain": [
       "0.4306740685294626"
      ]
     },
     "execution_count": 48,
     "metadata": {},
     "output_type": "execute_result"
    }
   ],
   "source": [
    "np.mean(cross_val_score(LinearSVC(C=1), X_train_derived_only, y_train, cv=5, scoring='f1_weighted'))"
   ]
  },
  {
   "cell_type": "code",
   "execution_count": 49,
   "metadata": {},
   "outputs": [
    {
     "data": {
      "text/plain": [
       "0.5610561733120385"
      ]
     },
     "execution_count": 49,
     "metadata": {},
     "output_type": "execute_result"
    }
   ],
   "source": [
    "np.mean(cross_val_score(MultinomialNB(alpha=1e-5), X_train_derived_only, y_train, cv=5, scoring='f1_weighted'))"
   ]
  },
  {
   "cell_type": "markdown",
   "metadata": {},
   "source": [
    "Now let's see how well the model does overall. Note that I use the best parameters found in the gridsearch for respective `alpha` and `C` values."
   ]
  },
  {
   "cell_type": "code",
   "execution_count": 50,
   "metadata": {},
   "outputs": [],
   "source": [
    "preprocess3 = make_column_transformer(\n",
    "    (make_pipeline(HackyWorkAround('body'),\n",
    "                   CountVectorizer(\n",
    "                       stop_words='english',\n",
    "                       max_df=0.75,\n",
    "                       ngram_range=(1,2)), \n",
    "                   TfidfTransformer()), ['body']), \n",
    "    remainder='passthrough'\n",
    ")\n",
    "\n",
    "pipes3 = {}\n",
    "pipes3['SGDClassifier'] = make_pipeline(preprocess3, SGDClassifier(alpha=1e-5))\n",
    "pipes3['LogisticRegression'] = make_pipeline(preprocess3, LogisticRegression(solver='liblinear', C=1))\n",
    "pipes3['LinearSVC'] = make_pipeline(preprocess3, LinearSVC(C=1))\n",
    "pipes3['MultinomialNB'] = make_pipeline(preprocess3, MultinomialNB(alpha=0.001))"
   ]
  },
  {
   "cell_type": "code",
   "execution_count": 51,
   "metadata": {},
   "outputs": [
    {
     "name": "stdout",
     "output_type": "stream",
     "text": [
      "Processing SGDClassifier...\n",
      "Processing LogisticRegression...\n",
      "Processing LinearSVC...\n",
      "Processing MultinomialNB...\n"
     ]
    }
   ],
   "source": [
    "mean_scores3 = {}\n",
    "\n",
    "for name, pipe in pipes3.items():\n",
    "    print(f'Processing {name}...')\n",
    "    scores = cross_val_score(pipe, X_train, y_train, cv=5, scoring='f1_weighted')\n",
    "    mean_scores3[name] = np.mean(scores)\n"
   ]
  },
  {
   "cell_type": "code",
   "execution_count": 52,
   "metadata": {},
   "outputs": [
    {
     "name": "stdout",
     "output_type": "stream",
     "text": [
      "SGDClassifier: 0.4801\n",
      "LogisticRegression: 0.6958\n",
      "LinearSVC: 0.4881\n",
      "MultinomialNB: 0.4733\n"
     ]
    }
   ],
   "source": [
    "for name, val in mean_scores3.items():\n",
    "    print(f'{name}: {val:.4}')"
   ]
  },
  {
   "cell_type": "markdown",
   "metadata": {},
   "source": [
    "Notice that with lemmatized body text, and including our new derived features, the SGDClassifier and MultinomialNB both actually perform much worse than when we only used the derived features. The LinearSVC also performs much worse than our model from part 2 in which it achieved almost .7 weighted F1-score through grid search.  The LogisticRegression remains the best performing model, improving slightly to just under .7 weighted F1-score. \n",
    "\n",
    "Before moving on, I decided to run these same models once more, but instead using AUC ROC as the metric.  The goal of this is to give me a reference point to compare my models with the Kaggle kernels (where we originally sourced the dataset from) since most of the kernels report the AUC ROC score. The best scores for that Kaggle competition are apparenty just above .8 AUC ROC (anywhere ~0.8-0.82 appear to be top ranked on the leaderboard)."
   ]
  },
  {
   "cell_type": "code",
   "execution_count": 53,
   "metadata": {},
   "outputs": [
    {
     "name": "stdout",
     "output_type": "stream",
     "text": [
      "Processing SGDClassifier...\n",
      "Processing LogisticRegression...\n",
      "Processing LinearSVC...\n",
      "Processing MultinomialNB...\n"
     ]
    }
   ],
   "source": [
    "mean_scores3roc_auc = {}\n",
    "\n",
    "for name, pipe in pipes3.items():\n",
    "    print(f'Processing {name}...')\n",
    "    scores = cross_val_score(pipe, X_train, y_train, cv=5, scoring='roc_auc')\n",
    "    mean_scores3roc_auc[name] = np.mean(scores)\n"
   ]
  },
  {
   "cell_type": "code",
   "execution_count": 54,
   "metadata": {},
   "outputs": [
    {
     "name": "stdout",
     "output_type": "stream",
     "text": [
      "SGDClassifier: 0.6631\n",
      "LogisticRegression: 0.7714\n",
      "LinearSVC: 0.6854\n",
      "MultinomialNB: 0.6741\n"
     ]
    }
   ],
   "source": [
    "for name, val in mean_scores3roc_auc.items():\n",
    "    print(f'{name}: {val:.4}')"
   ]
  },
  {
   "cell_type": "markdown",
   "metadata": {},
   "source": [
    "While the SGDClassifier, LinearSVC and MultinomialNB all perform under 0.7, the Logistic regression achieved nearly 0.78 which seems reasonable compared to the Kaggle leaderboard, especially given a simpler model.  "
   ]
  },
  {
   "cell_type": "markdown",
   "metadata": {},
   "source": [
    "Let's finish by evaluating how these models generalize to the test set, so that we can later compare this to the Task 2 Word Vector model."
   ]
  },
  {
   "cell_type": "code",
   "execution_count": 55,
   "metadata": {},
   "outputs": [
    {
     "name": "stdout",
     "output_type": "stream",
     "text": [
      "Generalization score for SGDClassifier...\n",
      "0.6339\n",
      "Generalization score for LogisticRegression...\n",
      "0.687\n",
      "Generalization score for LinearSVC...\n",
      "0.6945\n",
      "Generalization score for MultinomialNB...\n",
      "0.6221\n"
     ]
    }
   ],
   "source": [
    "for name, pipe in pipes3.items():\n",
    "    print(f'Generalization score for {name}...')\n",
    "    pipe.fit(X_train, y_train)\n",
    "    print(f'{pipe.score(X_test, y_test):.4}')"
   ]
  },
  {
   "cell_type": "markdown",
   "metadata": {},
   "source": [
    "## Task 2 Word Vectors"
   ]
  },
  {
   "cell_type": "markdown",
   "metadata": {},
   "source": [
    "Now I use the Google News pretrained word-embedding instead of the bag-of-words model."
   ]
  },
  {
   "cell_type": "code",
   "execution_count": 56,
   "metadata": {},
   "outputs": [],
   "source": [
    "# Load Google's pre-trained Word2Vec model.\n",
    "google_w2v = models.KeyedVectors.load_word2vec_format('./models/GoogleNews-vectors-negative300.bin', binary=True)"
   ]
  },
  {
   "cell_type": "markdown",
   "metadata": {},
   "source": [
    "The model uses only the word2vec vectors as training data, excluding our other derived features. I created a class that extends scikit-learn's transform interface so that we can run the word2vec transform from within a scikit-learn pipeline. However I still just run the word2vec transformation outside the pipeline since it takes a bit of time, this way it doesn't repeat for each model... "
   ]
  },
  {
   "cell_type": "code",
   "execution_count": 57,
   "metadata": {},
   "outputs": [],
   "source": [
    "class Word2VecTransform(TransformerMixin):\n",
    "    \"\"\" \n",
    "    Given X and model, generates word vectors for X.\n",
    "    \n",
    "    'model' should be a pretrained gensim model\n",
    "    'X' should be an numpy ndarray\n",
    "    \n",
    "    Reference:\n",
    "    https://github.com/amueller/COMS4995-s19/blob/master/slides/aml-19-word-embeddings/aml-21-word-embeddings.ipynb\n",
    "    \"\"\"\n",
    "    def __init__(self, model):\n",
    "        self.model = model\n",
    "        self.vect = CountVectorizer(vocabulary=model.index2word)\n",
    "    \n",
    "    def fit(self, X, y=None):\n",
    "        \"\"\" fit to X \"\"\"\n",
    "        return self.vect.fit(X)\n",
    "\n",
    "    def transform(self, X):\n",
    "        \"\"\" transform X \"\"\"\n",
    "            \n",
    "        docs = self.vect.inverse_transform(self.vect.transform(X))\n",
    "            \n",
    "        # Note: if the doc is and empty array then we generate a dummy result of shape (300,) \n",
    "        # to replace it in our dataset. This is a minority of cases, but basically this will \n",
    "        # occur if our doc did not contain any words in the Google News vocabulary and therefor\n",
    "        # results in zero word tokens in our doc array        \n",
    "        return np.vstack([\n",
    "            np.mean(self.model[doc], axis=0) if (doc.shape[0] > 0) else np.zeros(300) for doc in docs])"
   ]
  },
  {
   "cell_type": "code",
   "execution_count": 58,
   "metadata": {},
   "outputs": [],
   "source": [
    "w2v = Word2VecTransform(google_w2v)\n",
    "\n",
    "# TODO: fit_transform doesn't output correct dimensions, but fit and transform run separately works correctly\n",
    "w2v.fit(X_train.body)\n",
    "X_train_w2v = w2v.transform(X_train.body)\n",
    "\n",
    "X_test_w2v = w2v.transform(X_test.body)"
   ]
  },
  {
   "cell_type": "code",
   "execution_count": 59,
   "metadata": {},
   "outputs": [
    {
     "data": {
      "text/plain": [
       "(167529, 300)"
      ]
     },
     "execution_count": 59,
     "metadata": {},
     "output_type": "execute_result"
    }
   ],
   "source": [
    "X_train_w2v.shape"
   ]
  },
  {
   "cell_type": "code",
   "execution_count": 60,
   "metadata": {},
   "outputs": [
    {
     "data": {
      "text/plain": [
       "(55843, 300)"
      ]
     },
     "execution_count": 60,
     "metadata": {},
     "output_type": "execute_result"
    }
   ],
   "source": [
    "X_test_w2v.shape"
   ]
  },
  {
   "cell_type": "markdown",
   "metadata": {},
   "source": [
    "The commented out code shows how this would look if run in a Pipeline.  However, I may still have a bug in the fit_transform function (see code comment above), which would have to be worked out before running it like this. I just kept this for clarify to parallel the structure I've used throughout the assignment."
   ]
  },
  {
   "cell_type": "code",
   "execution_count": 61,
   "metadata": {},
   "outputs": [],
   "source": [
    "# preprocess4 = make_column_transformer(\n",
    "#     (make_pipeline(HackyWorkAround('body'), Word2VecTransform(google_w2v)), ['body'])\n",
    "# )\n",
    "\n",
    "pipes4 = {}\n",
    "pipes4['SGDClassifier'] = SGDClassifier(alpha=1e-5) # make_pipeline(preprocess4, SGDClassifier(alpha=1e-5))\n",
    "pipes4['LogisticRegression'] = LogisticRegression(solver='liblinear', C=1) # make_pipeline(preprocess4, LogisticRegression(solver='liblinear', C=1))\n",
    "pipes4['LinearSVC'] = LinearSVC(C=1) # make_pipeline(preprocess4, LinearSVC(C=1))\n",
    "\n",
    "# MultinomialNB can't have negative input values, but our word vectors contain negatives so I exclude this here\n",
    "# pipes4['MultinomialNB'] = MultinomialNB() # make_pipeline(preprocess4, MultinomialNB())\n"
   ]
  },
  {
   "cell_type": "code",
   "execution_count": 62,
   "metadata": {},
   "outputs": [
    {
     "name": "stdout",
     "output_type": "stream",
     "text": [
      "Processing SGDClassifier...\n",
      "Processing LogisticRegression...\n",
      "Processing LinearSVC...\n"
     ]
    }
   ],
   "source": [
    "mean_scores4 = {}\n",
    "\n",
    "for name, pipe in pipes4.items():\n",
    "    print(f'Processing {name}...')\n",
    "    scores = cross_val_score(pipe, X_train_w2v, y_train, cv=5, scoring='f1_weighted')\n",
    "    mean_scores4[name] = np.mean(scores)\n"
   ]
  },
  {
   "cell_type": "code",
   "execution_count": 63,
   "metadata": {},
   "outputs": [
    {
     "name": "stdout",
     "output_type": "stream",
     "text": [
      "SGDClassifier: 0.5983\n",
      "LogisticRegression: 0.66\n",
      "LinearSVC: 0.6569\n"
     ]
    }
   ],
   "source": [
    "for name, val in mean_scores4.items():\n",
    "    print(f'{name}: {val:.4}')"
   ]
  },
  {
   "cell_type": "markdown",
   "metadata": {},
   "source": [
    "All of the Word2Vec models appears to perform a bit worse than their corresponding models from Task 1 (referring to the best scores found with Gridsearch), they however perform better than the models that include lemmatization and additional features. \n",
    "\n",
    "Again for reference, like in Task 1 I will run the Word2Vec models once more using the AUC ROC metric, as well as see how they models generalize to the test set."
   ]
  },
  {
   "cell_type": "code",
   "execution_count": 64,
   "metadata": {},
   "outputs": [
    {
     "name": "stdout",
     "output_type": "stream",
     "text": [
      "Processing SGDClassifier...\n",
      "Processing LogisticRegression...\n",
      "Processing LinearSVC...\n"
     ]
    }
   ],
   "source": [
    "mean_scores4roc_auc = {}\n",
    "\n",
    "for name, pipe in pipes4.items():\n",
    "    print(f'Processing {name}...')\n",
    "    scores = cross_val_score(pipe, X_train_w2v, y_train, cv=5, scoring='roc_auc')\n",
    "    mean_scores4roc_auc[name] = np.mean(scores)\n"
   ]
  },
  {
   "cell_type": "code",
   "execution_count": 65,
   "metadata": {},
   "outputs": [
    {
     "name": "stdout",
     "output_type": "stream",
     "text": [
      "SGDClassifier: 0.7191\n",
      "LogisticRegression: 0.7279\n",
      "LinearSVC: 0.7282\n"
     ]
    }
   ],
   "source": [
    "for name, val in mean_scores4roc_auc.items():\n",
    "    print(f'{name}: {val:.4}')"
   ]
  },
  {
   "cell_type": "markdown",
   "metadata": {},
   "source": [
    "It appears that although the LogisticRegression did not receive as high of a score for AUC ROC in this task (~0.72 compared to ~0.77), the other two models, SGDClassifier and LinearSVC, output a higher AUC ROC score, both achieving above 0.7 whereas before they were both well below."
   ]
  },
  {
   "cell_type": "code",
   "execution_count": 66,
   "metadata": {},
   "outputs": [
    {
     "name": "stdout",
     "output_type": "stream",
     "text": [
      "Generalization score for SGDClassifier...\n",
      "0.6741\n",
      "Generalization score for LogisticRegression...\n",
      "0.6797\n",
      "Generalization score for LinearSVC...\n",
      "0.6797\n"
     ]
    }
   ],
   "source": [
    "for name, pipe in pipes4.items():\n",
    "    print(f'Generalization score for {name}...')\n",
    "    pipe.fit(X_train_w2v, y_train)\n",
    "    print(f'{pipe.score(X_test_w2v, y_test):.4}')"
   ]
  },
  {
   "cell_type": "markdown",
   "metadata": {},
   "source": [
    "In terms of generalization, the SGDClassifier performs better than the model from Task 1, however the LogisticRegression and LinearSVC both perform a bit worse.  One thing I did not do in Task 1 was evaluate how well the grid search models generalize. And so I will finish with that:"
   ]
  },
  {
   "cell_type": "code",
   "execution_count": 67,
   "metadata": {},
   "outputs": [
    {
     "data": {
      "text/plain": [
       "0.6917786633671364"
      ]
     },
     "execution_count": 67,
     "metadata": {},
     "output_type": "execute_result"
    }
   ],
   "source": [
    "sgd_grid.score(X_test, y_test)"
   ]
  },
  {
   "cell_type": "code",
   "execution_count": 68,
   "metadata": {},
   "outputs": [
    {
     "data": {
      "text/plain": [
       "0.6906119038595159"
      ]
     },
     "execution_count": 68,
     "metadata": {},
     "output_type": "execute_result"
    }
   ],
   "source": [
    "lgr_grid.score(X_test, y_test)"
   ]
  },
  {
   "cell_type": "code",
   "execution_count": 69,
   "metadata": {},
   "outputs": [
    {
     "data": {
      "text/plain": [
       "0.6860237913253923"
      ]
     },
     "execution_count": 69,
     "metadata": {},
     "output_type": "execute_result"
    }
   ],
   "source": [
    "svm_grid.score(X_test, y_test)"
   ]
  },
  {
   "cell_type": "code",
   "execution_count": 70,
   "metadata": {},
   "outputs": [
    {
     "data": {
      "text/plain": [
       "0.6802934609298993"
      ]
     },
     "execution_count": 70,
     "metadata": {},
     "output_type": "execute_result"
    }
   ],
   "source": [
    "mnb_grid.score(X_test, y_test)"
   ]
  },
  {
   "cell_type": "markdown",
   "metadata": {},
   "source": [
    "All of these models appear to generalize slightly better than the models from Task 2. Compared to the models from Task 1 that included lemmatization and derived features, the SGDClassifier and MultinomialNB both generalize much better, however the LogisticRegression is only slightly better and LinearSVC is slightly worse.  But none of them exceed the absolute best generalization score of 0.6945 achieved by the LinearSVC.  This is interesting and somewhat unexpected given that, for most of the experiments, it was actually the LogisticRegression, not the LinearSVC, that provided the best validation scores."
   ]
  },
  {
   "cell_type": "code",
   "execution_count": null,
   "metadata": {},
   "outputs": [],
   "source": []
  }
 ],
 "metadata": {
  "kernelspec": {
   "display_name": "AML Homework 4",
   "language": "python",
   "name": "homework-4-bsv2111-fcmvzh3y"
  },
  "language_info": {
   "codemirror_mode": {
    "name": "ipython",
    "version": 3
   },
   "file_extension": ".py",
   "mimetype": "text/x-python",
   "name": "python",
   "nbconvert_exporter": "python",
   "pygments_lexer": "ipython3",
   "version": "3.7.2"
  }
 },
 "nbformat": 4,
 "nbformat_minor": 2
}
